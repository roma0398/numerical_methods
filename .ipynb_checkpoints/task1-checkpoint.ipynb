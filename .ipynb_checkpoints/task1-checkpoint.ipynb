{
 "cells": [
  {
   "cell_type": "markdown",
   "metadata": {},
   "source": [
    "# МИНИМИЗАЦИЯ КВАДРАТИЧНОЙ ФУНКЦИИ"
   ]
  },
  {
   "cell_type": "code",
   "execution_count": 1,
   "metadata": {},
   "outputs": [],
   "source": [
    "import numpy as np"
   ]
  },
  {
   "cell_type": "code",
   "execution_count": 2,
   "metadata": {},
   "outputs": [
    {
     "name": "stdout",
     "output_type": "stream",
     "text": [
      "[-0.25        0.32258065 -0.36585366]\n"
     ]
    }
   ],
   "source": [
    "N = 1\n",
    "eps = 1e-06\n",
    "A = np.array([[4, 1, 1], [1, 2 * (3 + 0.1 * N), -1], [1, -1, 2 * (4 + 0.1 * N)]])\n",
    "b = np.array([1, -2, 3])\n",
    "a = np.diag(np.diag(A))\n",
    "x0 = np.linalg.solve(a, -b)\n",
    "print(x0)"
   ]
  },
  {
   "cell_type": "code",
   "execution_count": 3,
   "metadata": {},
   "outputs": [],
   "source": [
    "def diag_pr(a):\n",
    "    k = range(len(a))\n",
    "    delta = a[0][0]\n",
    "    for i in k:\n",
    "        s = 0\n",
    "        for j in k:\n",
    "            if j != i:\n",
    "                s += abs(a[i][j])\n",
    "        if (abs(a[i][i]) - s) < delta:\n",
    "            delta = a[i][i] - s\n",
    "    return delta"
   ]
  },
  {
   "cell_type": "code",
   "execution_count": 4,
   "metadata": {},
   "outputs": [],
   "source": [
    "def f(x):\n",
    "    return (\n",
    "        2 * x[0] ** 2 + (3 + 0.1 * N) * x[1] ** 2 + (4 + 0.1 * N) * x[2] ** 2\n",
    "        + x[0] * x[1] - x[1] * x[2] + x[0] * x[2] + x[0] - 2 * x[1] + 3 * x[2] + N\n",
    "    )"
   ]
  },
  {
   "cell_type": "code",
   "execution_count": 5,
   "metadata": {},
   "outputs": [],
   "source": [
    "def gradf(x):\n",
    "    return np.dot(A, x) + b"
   ]
  },
  {
   "cell_type": "code",
   "execution_count": 6,
   "metadata": {},
   "outputs": [],
   "source": [
    "def mngs(x0):\n",
    "    iter = 0\n",
    "    while 1:\n",
    "        iter = iter + 1\n",
    "        q = gradf(x0)\n",
    "        mhy = -((np.linalg.norm(gradf(x0)))**2) / (np.dot(\n",
    "            np.dot(gradf(x0).transpose(), A), gradf(x0)))\n",
    "        x = x0 + mhy * q\n",
    "        delta = diag_pr(A)\n",
    "        if diag_pr(A) > 0:\n",
    "            if np.linalg.norm(np.dot(A, x) + b) / delta < eps:\n",
    "                return x, iter\n",
    "        else:\n",
    "            if np.linalg.norm(f(x) - f(x0)) < eps:\n",
    "                return x, iter\n",
    "        x0 = x"
   ]
  },
  {
   "cell_type": "code",
   "execution_count": 7,
   "metadata": {},
   "outputs": [],
   "source": [
    "def mps(x0):\n",
    "    iter = 0\n",
    "    while 1:\n",
    "        for i in range(len(x0)):\n",
    "            iter = iter + 1\n",
    "            q = np.zeros(len(x0))\n",
    "            q[i] = 1\n",
    "            mhy = -(np.dot(q.transpose(), gradf(x0))) / (np.dot(\n",
    "                np.dot(q.transpose(), A), q))\n",
    "            x = x0 + mhy * q\n",
    "            delta = diag_pr(A)\n",
    "            if delta > 0:\n",
    "                if np.linalg.norm(np.dot(A, x) + b) / delta < eps:\n",
    "                    return x, iter\n",
    "            else:\n",
    "                if np.linalg.norm(f(x) - f(x0)) < eps:\n",
    "                    return x, iter\n",
    "            x0 = x"
   ]
  },
  {
   "cell_type": "code",
   "execution_count": 8,
   "metadata": {},
   "outputs": [
    {
     "name": "stdout",
     "output_type": "stream",
     "text": [
      "МПС\n",
      "Минимум функции [-0.25491895  0.31591599 -0.29623981]\n",
      "Значение функции в минимуме 0.11226497595119544\n",
      "Количество итераций 20\n"
     ]
    }
   ],
   "source": [
    "extr, it = mps(x0)\n",
    "print(\"МПС\")\n",
    "print(\"Минимум функции\", extr)\n",
    "print(\"Значение функции в минимуме\", f(extr))\n",
    "print(\"Количество итераций\", it)\n"
   ]
  },
  {
   "cell_type": "code",
   "execution_count": 9,
   "metadata": {},
   "outputs": [
    {
     "name": "stdout",
     "output_type": "stream",
     "text": [
      "МНГС\n",
      "Минимум функции [-0.25491887  0.31591592 -0.2962396 ]\n",
      "Значение функции в минимуме 0.11226497595116836\n",
      "Количество итераций 13\n"
     ]
    }
   ],
   "source": [
    "extr, it = mngs(x0)\n",
    "print(\"МНГС\")\n",
    "print(\"Минимум функции\", extr)\n",
    "print(\"Значение функции в минимуме\", f(extr))\n",
    "print(\"Количество итераций\", it)\n"
   ]
  },
  {
   "cell_type": "markdown",
   "metadata": {},
   "source": [
    "# Протестируем на функции с извесным минимумом"
   ]
  },
  {
   "cell_type": "markdown",
   "metadata": {},
   "source": [
    "$ f(x, y) = (x + 2y - 7)^2 + (2x + y - 5)^2 \\\\ \n",
    "f(1,3) = 0 \\; \\text{ - Минимум функции} $"
   ]
  },
  {
   "cell_type": "code",
   "execution_count": 10,
   "metadata": {},
   "outputs": [
    {
     "name": "stdout",
     "output_type": "stream",
     "text": [
      "[3.4 3.8]\n"
     ]
    }
   ],
   "source": [
    "eps = 1e-06\n",
    "A = np.array([[10, 8], [8, 10]])\n",
    "b = np.array([-34, -38])\n",
    "a = np.diag(np.diag(A))\n",
    "x0 = np.linalg.solve(a, -b)\n",
    "print(x0)"
   ]
  },
  {
   "cell_type": "code",
   "execution_count": 11,
   "metadata": {},
   "outputs": [],
   "source": [
    "def f(x):\n",
    "    return ((x[0] + 2*x[1] - 7)**2 + (2*x[0] + x[1] - 5)**2)"
   ]
  },
  {
   "cell_type": "code",
   "execution_count": 12,
   "metadata": {},
   "outputs": [
    {
     "name": "stdout",
     "output_type": "stream",
     "text": [
      "МПС\n",
      "Минимум функции [0.99920772 3.00099035]\n",
      "Значение функции в минимуме 1.7654348630768776e-06\n",
      "Количество итераций 31\n"
     ]
    }
   ],
   "source": [
    "extr, it = mps(x0)\n",
    "print(\"МПС\")\n",
    "print(\"Минимум функции\", extr)\n",
    "print(\"Значение функции в минимуме\", f(extr))\n",
    "print(\"Количество итераций\", it)"
   ]
  },
  {
   "cell_type": "code",
   "execution_count": 13,
   "metadata": {},
   "outputs": [
    {
     "name": "stdout",
     "output_type": "stream",
     "text": [
      "МНГС\n",
      "Минимум функции [1.00002335 3.00000778]\n",
      "Значение функции в минимуме 4.482059555986774e-09\n",
      "Количество итераций 6\n"
     ]
    }
   ],
   "source": [
    "extr, it = mngs(x0)\n",
    "print(\"МНГС\")\n",
    "print(\"Минимум функции\", extr)\n",
    "print(\"Значение функции в минимуме\", f(extr))\n",
    "print(\"Количество итераций\", it)"
   ]
  },
  {
   "cell_type": "code",
   "execution_count": null,
   "metadata": {},
   "outputs": [],
   "source": []
  }
 ],
 "metadata": {
  "kernelspec": {
   "display_name": "Python 3",
   "language": "python",
   "name": "python3"
  },
  "language_info": {
   "codemirror_mode": {
    "name": "ipython",
    "version": 3
   },
   "file_extension": ".py",
   "mimetype": "text/x-python",
   "name": "python",
   "nbconvert_exporter": "python",
   "pygments_lexer": "ipython3",
   "version": "3.7.0"
  }
 },
 "nbformat": 4,
 "nbformat_minor": 2
}
